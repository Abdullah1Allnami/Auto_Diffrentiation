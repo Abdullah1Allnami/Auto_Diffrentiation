{
 "cells": [
  {
   "cell_type": "code",
   "execution_count": null,
   "metadata": {
    "ExecuteTime": {
     "end_time": "2024-10-01T19:19:03.619738Z",
     "start_time": "2024-10-01T19:19:03.615298Z"
    }
   },
   "outputs": [],
   "source": [
    "from graphviz import Digraph"
   ]
  },
  {
   "cell_type": "code",
   "execution_count": null,
   "metadata": {},
   "outputs": [],
   "source": [
    "import os\n",
    "os.chdir('/Users/bdallhsydbdallh/Documents/ON-Going-Projects/andrej')"
   ]
  },
  {
   "cell_type": "code",
   "execution_count": null,
   "metadata": {
    "ExecuteTime": {
     "end_time": "2024-10-01T19:19:03.629228Z",
     "start_time": "2024-10-01T19:19:03.626158Z"
    }
   },
   "outputs": [],
   "source": [
    "from Auto_Diffrentiation.Engine.engine import Scalar\n",
    "from Auto_Diffrentiation.Engine.Neural_Networks import Neuron\n"
   ]
  },
  {
   "cell_type": "code",
   "execution_count": null,
   "metadata": {
    "ExecuteTime": {
     "end_time": "2024-10-01T19:19:03.644787Z",
     "start_time": "2024-10-01T19:19:03.639829Z"
    }
   },
   "outputs": [],
   "source": [
    "def trace(root):\n",
    "    nodes, edges = set(), set()\n",
    "\n",
    "    def build(v):\n",
    "        if v not in nodes:\n",
    "            nodes.add(v)\n",
    "            for child in v._ancestors:\n",
    "                edges.add((child, v))\n",
    "                build(child)\n",
    "\n",
    "    build(root)\n",
    "    return nodes, edges\n",
    "\n",
    "\n",
    "def draw_dot(root, format='svg', rankdir='LR'):\n",
    "    assert rankdir in ['LR', 'TB']\n",
    "    nodes, edges = trace(root)\n",
    "    dot = Digraph(format=format, graph_attr={'rankdir': rankdir})  #, node_attr={'rankdir': 'TB'})\n",
    "\n",
    "    for n in nodes:\n",
    "        dot.node(name=str(id(n)), label=\"{ data %.4f | grad %.4f }\" % (n.value, n.gradient), shape='record')\n",
    "        if n._operations:\n",
    "            dot.node(name=str(id(n)) + n._operations, label=n._operations)\n",
    "            dot.edge(str(id(n)) + n._operations, str(id(n)))\n",
    "\n",
    "    for n1, n2 in edges:\n",
    "        dot.edge(str(id(n1)), str(id(n2)) + n2._operations)\n",
    "\n",
    "    return dot"
   ]
  },
  {
   "cell_type": "code",
   "execution_count": null,
   "metadata": {
    "ExecuteTime": {
     "end_time": "2024-10-01T19:19:03.780341Z",
     "start_time": "2024-10-01T19:19:03.653337Z"
    }
   },
   "outputs": [],
   "source": [
    "# a very simple example\n",
    "x = Scalar(1.0)\n",
    "y = (x * 2 + 1).relu()\n",
    "y.backpropagate()\n",
    "draw_dot(y)"
   ]
  },
  {
   "cell_type": "code",
   "execution_count": null,
   "metadata": {
    "ExecuteTime": {
     "end_time": "2024-10-01T19:19:03.840602Z",
     "start_time": "2024-10-01T19:19:03.789091Z"
    }
   },
   "outputs": [],
   "source": [
    "# a simple 2D neuron\n",
    "import random\n",
    "from Auto_Diffrentiation.Engine.Neural_Networks import Neuron\n",
    "\n",
    "random.seed(1337)\n",
    "n = Neuron(2)\n",
    "x = [Scalar(1.0), Scalar(-2.0)]\n",
    "y = n(x)\n",
    "y.backpropagate()\n",
    "\n",
    "dot = draw_dot(y)\n",
    "dot"
   ]
  }
 ],
 "metadata": {
  "kernelspec": {
   "display_name": "Python 3",
   "language": "python",
   "name": "python3"
  },
  "language_info": {
   "codemirror_mode": {
    "name": "ipython",
    "version": 3
   },
   "file_extension": ".py",
   "mimetype": "text/x-python",
   "name": "python",
   "nbconvert_exporter": "python",
   "pygments_lexer": "ipython3",
   "version": "3.12.7"
  }
 },
 "nbformat": 4,
 "nbformat_minor": 2
}
